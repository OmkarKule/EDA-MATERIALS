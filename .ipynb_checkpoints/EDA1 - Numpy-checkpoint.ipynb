{
 "cells": [
  {
   "cell_type": "code",
   "execution_count": 2,
   "id": "afcc4713",
   "metadata": {},
   "outputs": [
    {
     "name": "stdout",
     "output_type": "stream",
     "text": [
      "1.24.3\n"
     ]
    }
   ],
   "source": [
    "import numpy as np\n",
    "print (np.__version__)"
   ]
  },
  {
   "cell_type": "code",
   "execution_count": 3,
   "id": "8aca2905",
   "metadata": {},
   "outputs": [
    {
     "name": "stdout",
     "output_type": "stream",
     "text": [
      "45\n"
     ]
    }
   ],
   "source": [
    "list=[23,34,45]\n",
    "print(list[-1])\n",
    "#Print (List,type(list),id(list) )"
   ]
  },
  {
   "cell_type": "code",
   "execution_count": 6,
   "id": "2545687a",
   "metadata": {},
   "outputs": [
    {
     "name": "stdout",
     "output_type": "stream",
     "text": [
      "[[1 2 3]\n",
      " [1 2 3]] <class 'numpy.ndarray'>\n",
      "2\n"
     ]
    }
   ],
   "source": [
    "b=np.array([[1,2,3],[1,2,3]])\n",
    "print(b,type(b))\n",
    "print(b.ndim)"
   ]
  },
  {
   "cell_type": "code",
   "execution_count": 8,
   "id": "3223b42d",
   "metadata": {},
   "outputs": [
    {
     "name": "stdout",
     "output_type": "stream",
     "text": [
      "2\n"
     ]
    }
   ],
   "source": [
    "print(b.ndim)"
   ]
  },
  {
   "cell_type": "code",
   "execution_count": 10,
   "id": "e264c816",
   "metadata": {},
   "outputs": [
    {
     "name": "stdout",
     "output_type": "stream",
     "text": [
      "[[[1 2 3]\n",
      "  [1 2 3]\n",
      "  [1 2 3]\n",
      "  [1 2 3]]]\n",
      "3\n"
     ]
    }
   ],
   "source": [
    "a=np.array([[[1,2,3],[1,2,3],[1,2,3],[1,2,3]]])\n",
    "#print (a,type(a))\n",
    "print(a)\n",
    "print(a.ndim)"
   ]
  },
  {
   "cell_type": "code",
   "execution_count": 11,
   "id": "f7ad20cd",
   "metadata": {},
   "outputs": [
    {
     "name": "stdout",
     "output_type": "stream",
     "text": [
      "3\n"
     ]
    }
   ],
   "source": [
    "print(a.ndim)"
   ]
  },
  {
   "cell_type": "code",
   "execution_count": 15,
   "id": "5d1d966d",
   "metadata": {},
   "outputs": [
    {
     "name": "stdout",
     "output_type": "stream",
     "text": [
      "2\n"
     ]
    },
    {
     "data": {
      "text/plain": [
       "array([[0., 0., 0., 0., 0.],\n",
       "       [0., 0., 0., 0., 0.],\n",
       "       [0., 0., 0., 0., 0.],\n",
       "       [0., 0., 0., 0., 0.]])"
      ]
     },
     "execution_count": 15,
     "metadata": {},
     "output_type": "execute_result"
    }
   ],
   "source": [
    "#Methods Zeros(),One ()\n",
    "c=np.zeros((4,5))\n",
    "print(c.ndim)\n",
    "c"
   ]
  },
  {
   "cell_type": "markdown",
   "id": "812f8f5f",
   "metadata": {},
   "source": [
    "ZEROS(),ONES()are the NumPy Liberary Functions to create two different arrays.zeros() function is used to create an array based on particular shape & type . All array elements are itialized to 0, which is create by zeros() functions. one() function works like the zero () function."
   ]
  },
  {
   "cell_type": "code",
   "execution_count": 16,
   "id": "933b97e0",
   "metadata": {},
   "outputs": [
    {
     "name": "stdout",
     "output_type": "stream",
     "text": [
      "2\n"
     ]
    }
   ],
   "source": [
    "a=np.zeros((3,4))\n",
    "print(a.ndim)"
   ]
  },
  {
   "cell_type": "code",
   "execution_count": 18,
   "id": "5ac9e2a4",
   "metadata": {},
   "outputs": [
    {
     "name": "stdout",
     "output_type": "stream",
     "text": [
      "[[1. 1. 1.]\n",
      " [1. 1. 1.]\n",
      " [1. 1. 1.]]\n"
     ]
    },
    {
     "data": {
      "text/plain": [
       "2"
      ]
     },
     "execution_count": 18,
     "metadata": {},
     "output_type": "execute_result"
    }
   ],
   "source": [
    "#c=np.Ones(10)*5\n",
    "#Print(c)\n",
    "a=np.ones((3,3))\n",
    "print (a)\n",
    "a.ndim"
   ]
  },
  {
   "cell_type": "code",
   "execution_count": 19,
   "id": "e2dde3c3",
   "metadata": {},
   "outputs": [
    {
     "name": "stdout",
     "output_type": "stream",
     "text": [
      "[[1. 0. 0. 0. 0.]\n",
      " [0. 1. 0. 0. 0.]\n",
      " [0. 0. 1. 0. 0.]\n",
      " [0. 0. 0. 1. 0.]\n",
      " [0. 0. 0. 0. 1.]]\n"
     ]
    }
   ],
   "source": [
    "a=np.eye(5)\n",
    "print(a)"
   ]
  },
  {
   "cell_type": "code",
   "execution_count": 20,
   "id": "ae0f0b53",
   "metadata": {},
   "outputs": [
    {
     "name": "stdout",
     "output_type": "stream",
     "text": [
      "[[0. 0. 0. 0. 0. 0.]\n",
      " [0. 0. 0. 0. 0. 0.]\n",
      " [0. 0. 0. 0. 0. 0.]\n",
      " [1. 0. 0. 0. 0. 0.]\n",
      " [0. 1. 0. 0. 0. 0.]\n",
      " [0. 0. 1. 0. 0. 0.]]\n"
     ]
    }
   ],
   "source": [
    "a=np.eye(6,k=-3)\n",
    "print(a)"
   ]
  },
  {
   "cell_type": "code",
   "execution_count": 21,
   "id": "294ec67b",
   "metadata": {},
   "outputs": [
    {
     "name": "stdout",
     "output_type": "stream",
     "text": [
      "[[89 89 89 89]\n",
      " [89 89 89 89]\n",
      " [89 89 89 89]]\n"
     ]
    }
   ],
   "source": [
    "a=np.full((3,4),89)\n",
    "print(a)"
   ]
  },
  {
   "cell_type": "code",
   "execution_count": 23,
   "id": "793c63fd",
   "metadata": {},
   "outputs": [
    {
     "name": "stdout",
     "output_type": "stream",
     "text": [
      "[[0.94235825 0.54384112 0.50408088 0.32998986 0.76724663]\n",
      " [0.79058353 0.53266689 0.27738081 0.59706041 0.89700268]\n",
      " [0.77090711 0.09833514 0.67511065 0.26862813 0.90904883]\n",
      " [0.56745917 0.41867369 0.5219654  0.93442057 0.96379901]\n",
      " [0.01391745 0.42453269 0.35938914 0.77692559 0.05106043]]\n"
     ]
    }
   ],
   "source": [
    "a=np.random.rand(5,5)\n",
    "print(a)"
   ]
  },
  {
   "cell_type": "code",
   "execution_count": 27,
   "id": "b4d7fbd8",
   "metadata": {},
   "outputs": [
    {
     "name": "stdout",
     "output_type": "stream",
     "text": [
      "[[-1.14196555 -0.3778205   0.08068871 -0.86208047  0.30967229]\n",
      " [-0.15280002  0.46434634 -1.16523002 -0.93520521  0.28066342]\n",
      " [ 0.29787039 -0.82199144  0.96892113  0.28453878  0.84696975]\n",
      " [ 0.22129872 -0.02072122  0.33443857  1.37010898  2.37493569]\n",
      " [ 0.74534686  0.30223004 -1.51486563 -0.51498243  0.81149759]]\n",
      "2\n",
      "float64\n",
      "(5, 5)\n",
      "25\n"
     ]
    }
   ],
   "source": [
    "a=np.random.randn(5,5) #n Means Negative Values \n",
    "print(a)\n",
    "print(a.ndim)\n",
    "print(a.dtype)\n",
    "print(a.shape)\n",
    "print(a.size)"
   ]
  },
  {
   "cell_type": "code",
   "execution_count": 29,
   "id": "d6adce68",
   "metadata": {},
   "outputs": [
    {
     "name": "stdout",
     "output_type": "stream",
     "text": [
      "[0.         0.05263158 0.10526316 0.15789474 0.21052632 0.26315789\n",
      " 0.31578947 0.36842105 0.42105263 0.47368421 0.52631579 0.57894737\n",
      " 0.63157895 0.68421053 0.73684211 0.78947368 0.84210526 0.89473684\n",
      " 0.94736842 1.        ]\n",
      "1\n"
     ]
    }
   ],
   "source": [
    "s=np.linspace (0,1,20)\n",
    "print(s)\n",
    "print(s.ndim)"
   ]
  },
  {
   "cell_type": "code",
   "execution_count": 30,
   "id": "1a3c5cfd",
   "metadata": {},
   "outputs": [],
   "source": [
    "#a=np.array "
   ]
  },
  {
   "cell_type": "code",
   "execution_count": 31,
   "id": "bb74a37d",
   "metadata": {},
   "outputs": [],
   "source": [
    "#a=random.uniform (a,b) #Provide interger Values\n",
    "#Print"
   ]
  },
  {
   "cell_type": "code",
   "execution_count": 34,
   "id": "3fd088c3",
   "metadata": {},
   "outputs": [
    {
     "name": "stdout",
     "output_type": "stream",
     "text": [
      "[[[1 2 3]\n",
      "  [1 2 3]]\n",
      "\n",
      " [[1 2 3]\n",
      "  [1 2 3]]\n",
      "\n",
      " [[1 2 3]\n",
      "  [1 2 3]]]\n",
      "3\n",
      "int32\n",
      "(3, 2, 3)\n",
      "18\n"
     ]
    }
   ],
   "source": [
    "#Properties of Array \n",
    "a=np.array([[[1,2,3],[1,2,3]],[[1,2,3],[1,2,3]],[[1,2,3],[1,2,3]]])\n",
    "print(a)\n",
    "print(a.ndim)\n",
    "print(a.dtype)\n",
    "print(a.shape)\n",
    "print(a.size)"
   ]
  },
  {
   "cell_type": "code",
   "execution_count": null,
   "id": "3b4331ed",
   "metadata": {},
   "outputs": [],
   "source": [
    "#Copy () And View() the main differece between a  copy & a view of an array is that the copy is a new arrary,\n",
    "#and the view is just a view of the original array. "
   ]
  },
  {
   "cell_type": "code",
   "execution_count": 37,
   "id": "1cd88465",
   "metadata": {},
   "outputs": [
    {
     "name": "stdout",
     "output_type": "stream",
     "text": [
      "Orginal Values [1 2 3]\n",
      "Copy Values [10  2  3]\n",
      "******************************\n",
      "orignal values [10  2  3]\n",
      "view values [10  2  3]\n"
     ]
    }
   ],
   "source": [
    "a=np.array([1,2,3])\n",
    "x=a.copy()\n",
    "x[0]=10\n",
    "print(\"Orginal Values\",a)\n",
    "print(\"Copy Values\",x)\n",
    "print(\"*\"*30)\n",
    "\n",
    "#View \n",
    "a=np.array([1,2,3])\n",
    "y=a.view()\n",
    "y[0]=10\n",
    "print(\"orignal values\",a)\n",
    "print(\"view values\",y)"
   ]
  },
  {
   "cell_type": "code",
   "execution_count": null,
   "id": "b1a37b88",
   "metadata": {},
   "outputs": [],
   "source": [
    "#Indexing & Slicing \n",
    "a=np.array([1,2,3],[4,5,6],[7,8,9]])"
   ]
  }
 ],
 "metadata": {
  "kernelspec": {
   "display_name": "Python 3 (ipykernel)",
   "language": "python",
   "name": "python3"
  },
  "language_info": {
   "codemirror_mode": {
    "name": "ipython",
    "version": 3
   },
   "file_extension": ".py",
   "mimetype": "text/x-python",
   "name": "python",
   "nbconvert_exporter": "python",
   "pygments_lexer": "ipython3",
   "version": "3.11.4"
  }
 },
 "nbformat": 4,
 "nbformat_minor": 5
}
