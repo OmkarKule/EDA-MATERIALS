{
 "cells": [
  {
   "cell_type": "code",
   "execution_count": 57,
   "id": "262ffa75",
   "metadata": {},
   "outputs": [
    {
     "name": "stdout",
     "output_type": "stream",
     "text": [
      "1.24.3\n"
     ]
    }
   ],
   "source": [
    "import numpy as np\n",
    "print (np.__version__)"
   ]
  },
  {
   "cell_type": "code",
   "execution_count": 3,
   "id": "bfeec92f",
   "metadata": {},
   "outputs": [
    {
     "name": "stdout",
     "output_type": "stream",
     "text": [
      "45\n"
     ]
    }
   ],
   "source": [
    "list=[23,34,45]\n",
    "print(list[-1])\n",
    "#Print (List,type(list),id(list) )"
   ]
  },
  {
   "cell_type": "code",
   "execution_count": 6,
   "id": "40b38583",
   "metadata": {},
   "outputs": [
    {
     "name": "stdout",
     "output_type": "stream",
     "text": [
      "[[1 2 3]\n",
      " [1 2 3]] <class 'numpy.ndarray'>\n",
      "2\n"
     ]
    }
   ],
   "source": [
    "b=np.array([[1,2,3],[1,2,3]])\n",
    "print(b,type(b))\n",
    "print(b.ndim)"
   ]
  },
  {
   "cell_type": "code",
   "execution_count": 8,
   "id": "4b551d27",
   "metadata": {},
   "outputs": [
    {
     "name": "stdout",
     "output_type": "stream",
     "text": [
      "2\n"
     ]
    }
   ],
   "source": [
    "print(b.ndim)"
   ]
  },
  {
   "cell_type": "code",
   "execution_count": 10,
   "id": "a94ec8aa",
   "metadata": {},
   "outputs": [
    {
     "name": "stdout",
     "output_type": "stream",
     "text": [
      "[[[1 2 3]\n",
      "  [1 2 3]\n",
      "  [1 2 3]\n",
      "  [1 2 3]]]\n",
      "3\n"
     ]
    }
   ],
   "source": [
    "a=np.array([[[1,2,3],[1,2,3],[1,2,3],[1,2,3]]])\n",
    "#print (a,type(a))\n",
    "print(a)\n",
    "print(a.ndim)"
   ]
  },
  {
   "cell_type": "code",
   "execution_count": 11,
   "id": "91495fc1",
   "metadata": {},
   "outputs": [
    {
     "name": "stdout",
     "output_type": "stream",
     "text": [
      "3\n"
     ]
    }
   ],
   "source": [
    "print(a.ndim)"
   ]
  },
  {
   "cell_type": "code",
   "execution_count": 15,
   "id": "dd6bcd04",
   "metadata": {},
   "outputs": [
    {
     "name": "stdout",
     "output_type": "stream",
     "text": [
      "2\n"
     ]
    },
    {
     "data": {
      "text/plain": [
       "array([[0., 0., 0., 0., 0.],\n",
       "       [0., 0., 0., 0., 0.],\n",
       "       [0., 0., 0., 0., 0.],\n",
       "       [0., 0., 0., 0., 0.]])"
      ]
     },
     "execution_count": 15,
     "metadata": {},
     "output_type": "execute_result"
    }
   ],
   "source": [
    "#Methods Zeros(),One ()\n",
    "c=np.zeros((4,5))\n",
    "print(c.ndim)\n",
    "c"
   ]
  },
  {
   "cell_type": "markdown",
   "id": "fa62ab26",
   "metadata": {},
   "source": [
    "ZEROS(),ONES()are the NumPy Liberary Functions to create two different arrays.zeros() function is used to create an array based on particular shape & type . All array elements are itialized to 0, which is create by zeros() functions. one() function works like the zero () function."
   ]
  },
  {
   "cell_type": "code",
   "execution_count": 16,
   "id": "46888e6b",
   "metadata": {},
   "outputs": [
    {
     "name": "stdout",
     "output_type": "stream",
     "text": [
      "2\n"
     ]
    }
   ],
   "source": [
    "a=np.zeros((3,4))\n",
    "print(a.ndim)"
   ]
  },
  {
   "cell_type": "code",
   "execution_count": 18,
   "id": "9c6effd5",
   "metadata": {},
   "outputs": [
    {
     "name": "stdout",
     "output_type": "stream",
     "text": [
      "[[1. 1. 1.]\n",
      " [1. 1. 1.]\n",
      " [1. 1. 1.]]\n"
     ]
    },
    {
     "data": {
      "text/plain": [
       "2"
      ]
     },
     "execution_count": 18,
     "metadata": {},
     "output_type": "execute_result"
    }
   ],
   "source": [
    "#c=np.Ones(10)*5\n",
    "#Print(c)\n",
    "a=np.ones((3,3))\n",
    "print (a)\n",
    "a.ndim"
   ]
  },
  {
   "cell_type": "code",
   "execution_count": 19,
   "id": "8c2f19b0",
   "metadata": {},
   "outputs": [
    {
     "name": "stdout",
     "output_type": "stream",
     "text": [
      "[[1. 0. 0. 0. 0.]\n",
      " [0. 1. 0. 0. 0.]\n",
      " [0. 0. 1. 0. 0.]\n",
      " [0. 0. 0. 1. 0.]\n",
      " [0. 0. 0. 0. 1.]]\n"
     ]
    }
   ],
   "source": [
    "a=np.eye(5)\n",
    "print(a)"
   ]
  },
  {
   "cell_type": "code",
   "execution_count": 20,
   "id": "bc4d8fa5",
   "metadata": {},
   "outputs": [
    {
     "name": "stdout",
     "output_type": "stream",
     "text": [
      "[[0. 0. 0. 0. 0. 0.]\n",
      " [0. 0. 0. 0. 0. 0.]\n",
      " [0. 0. 0. 0. 0. 0.]\n",
      " [1. 0. 0. 0. 0. 0.]\n",
      " [0. 1. 0. 0. 0. 0.]\n",
      " [0. 0. 1. 0. 0. 0.]]\n"
     ]
    }
   ],
   "source": [
    "a=np.eye(6,k=-3)\n",
    "print(a)"
   ]
  },
  {
   "cell_type": "code",
   "execution_count": 21,
   "id": "3a709462",
   "metadata": {},
   "outputs": [
    {
     "name": "stdout",
     "output_type": "stream",
     "text": [
      "[[89 89 89 89]\n",
      " [89 89 89 89]\n",
      " [89 89 89 89]]\n"
     ]
    }
   ],
   "source": [
    "a=np.full((3,4),89)\n",
    "print(a)"
   ]
  },
  {
   "cell_type": "code",
   "execution_count": 23,
   "id": "3c7f7508",
   "metadata": {},
   "outputs": [
    {
     "name": "stdout",
     "output_type": "stream",
     "text": [
      "[[0.94235825 0.54384112 0.50408088 0.32998986 0.76724663]\n",
      " [0.79058353 0.53266689 0.27738081 0.59706041 0.89700268]\n",
      " [0.77090711 0.09833514 0.67511065 0.26862813 0.90904883]\n",
      " [0.56745917 0.41867369 0.5219654  0.93442057 0.96379901]\n",
      " [0.01391745 0.42453269 0.35938914 0.77692559 0.05106043]]\n"
     ]
    }
   ],
   "source": [
    "a=np.random.rand(5,5)\n",
    "print(a)"
   ]
  },
  {
   "cell_type": "code",
   "execution_count": 27,
   "id": "e5677919",
   "metadata": {},
   "outputs": [
    {
     "name": "stdout",
     "output_type": "stream",
     "text": [
      "[[-1.14196555 -0.3778205   0.08068871 -0.86208047  0.30967229]\n",
      " [-0.15280002  0.46434634 -1.16523002 -0.93520521  0.28066342]\n",
      " [ 0.29787039 -0.82199144  0.96892113  0.28453878  0.84696975]\n",
      " [ 0.22129872 -0.02072122  0.33443857  1.37010898  2.37493569]\n",
      " [ 0.74534686  0.30223004 -1.51486563 -0.51498243  0.81149759]]\n",
      "2\n",
      "float64\n",
      "(5, 5)\n",
      "25\n"
     ]
    }
   ],
   "source": [
    "a=np.random.randn(5,5) #n Means Negative Values \n",
    "print(a)\n",
    "print(a.ndim)\n",
    "print(a.dtype)\n",
    "print(a.shape)\n",
    "print(a.size)"
   ]
  },
  {
   "cell_type": "code",
   "execution_count": 29,
   "id": "3746f20d",
   "metadata": {},
   "outputs": [
    {
     "name": "stdout",
     "output_type": "stream",
     "text": [
      "[0.         0.05263158 0.10526316 0.15789474 0.21052632 0.26315789\n",
      " 0.31578947 0.36842105 0.42105263 0.47368421 0.52631579 0.57894737\n",
      " 0.63157895 0.68421053 0.73684211 0.78947368 0.84210526 0.89473684\n",
      " 0.94736842 1.        ]\n",
      "1\n"
     ]
    }
   ],
   "source": [
    "s=np.linspace (0,1,20)\n",
    "print(s)\n",
    "print(s.ndim)"
   ]
  },
  {
   "cell_type": "code",
   "execution_count": 30,
   "id": "7c508658",
   "metadata": {},
   "outputs": [],
   "source": [
    "#a=np.array "
   ]
  },
  {
   "cell_type": "code",
   "execution_count": 31,
   "id": "4ca506c9",
   "metadata": {},
   "outputs": [],
   "source": [
    "#a=random.uniform (a,b) #Provide interger Values\n",
    "#Print"
   ]
  },
  {
   "cell_type": "code",
   "execution_count": 34,
   "id": "26339a1c",
   "metadata": {},
   "outputs": [
    {
     "name": "stdout",
     "output_type": "stream",
     "text": [
      "[[[1 2 3]\n",
      "  [1 2 3]]\n",
      "\n",
      " [[1 2 3]\n",
      "  [1 2 3]]\n",
      "\n",
      " [[1 2 3]\n",
      "  [1 2 3]]]\n",
      "3\n",
      "int32\n",
      "(3, 2, 3)\n",
      "18\n"
     ]
    }
   ],
   "source": [
    "#Properties of Array \n",
    "a=np.array([[[1,2,3],[1,2,3]],[[1,2,3],[1,2,3]],[[1,2,3],[1,2,3]]])\n",
    "print(a)\n",
    "print(a.ndim)\n",
    "print(a.dtype)\n",
    "print(a.shape)\n",
    "print(a.size)"
   ]
  },
  {
   "cell_type": "code",
   "execution_count": null,
   "id": "345d05d7",
   "metadata": {},
   "outputs": [],
   "source": [
    "#Copy () And View() the main differece between a  copy & a view of an array is that the copy is a new arrary,\n",
    "#and the view is just a view of the original array. "
   ]
  },
  {
   "cell_type": "code",
   "execution_count": 37,
   "id": "a0c7279f",
   "metadata": {},
   "outputs": [
    {
     "name": "stdout",
     "output_type": "stream",
     "text": [
      "Orginal Values [1 2 3]\n",
      "Copy Values [10  2  3]\n",
      "******************************\n",
      "orignal values [10  2  3]\n",
      "view values [10  2  3]\n"
     ]
    }
   ],
   "source": [
    "a=np.array([1,2,3])\n",
    "x=a.copy()\n",
    "x[0]=10\n",
    "print(\"Orginal Values\",a)\n",
    "print(\"Copy Values\",x)\n",
    "print(\"*\"*30)\n",
    "\n",
    "#View \n",
    "a=np.array([1,2,3])\n",
    "y=a.view()\n",
    "y[0]=10\n",
    "print(\"orignal values\",a)\n",
    "print(\"view values\",y)"
   ]
  },
  {
   "cell_type": "code",
   "execution_count": 53,
   "id": "17e87c70",
   "metadata": {},
   "outputs": [
    {
     "name": "stdout",
     "output_type": "stream",
     "text": [
      "[[1 2 3]\n",
      " [4 5 6]\n",
      " [7 8 9]]\n",
      "[1 2 3]\n",
      "2\n",
      "3\n",
      "8\n",
      "[[1 2 3]\n",
      " [4 5 6]\n",
      " [7 8 9]]\n"
     ]
    }
   ],
   "source": [
    "#Indexing & Slicing \n",
    "a1=np.array([[1,2,3],[4,5,6],[7,8,9]])\n",
    "#print(\"Orignal:\",a)\n",
    "#print(a)\n",
    "#print()\n",
    "a=[1,2,3,4,5]\n",
    "#print(a1[2:4])\n",
    "print(a1)\n",
    "print(a1[0])\n",
    "print(a1.ndim)\n",
    "print(a1[0,2])\n",
    "print(a1[2,1])\n",
    "print(a1[0:,0:33])"
   ]
  },
  {
   "cell_type": "code",
   "execution_count": 73,
   "id": "b9cbfa5d",
   "metadata": {},
   "outputs": [
    {
     "name": "stdout",
     "output_type": "stream",
     "text": [
      "3\n",
      "[[[1 2 3]\n",
      "  [1 2 3]]\n",
      "\n",
      " [[4 5 6]\n",
      "  [4 5 6]]]\n"
     ]
    }
   ],
   "source": [
    "a=np.array([[[1,2,3],[1,2,3]],[[4,5,6],[4,5,6]]])\n",
    "print(a.ndim)\n",
    "print(a)\n",
    "#print(a[:,0,2])\n",
    "#print(a[1])\n",
    "#print(a[2])-Will give error as 2nd  array is not present.\n",
    "#print(a[1:,1:])\n",
    "#print(a[:,1,2])\n",
    "#print(a[1,:])"
   ]
  },
  {
   "cell_type": "code",
   "execution_count": 105,
   "id": "e824b06f",
   "metadata": {
    "scrolled": true
   },
   "outputs": [
    {
     "name": "stdout",
     "output_type": "stream",
     "text": [
      "original [1 2 3]\n",
      "Single dimensinal\n",
      "second array [1 2 3 4 5 6]\n",
      "****************************************\n"
     ]
    }
   ],
   "source": [
    "#Array Operation \n",
    "\n",
    "x=np.array([1,2,3])\n",
    "print(\"original\",x)\n",
    "print(\"Single dimensinal\")\n",
    "y=np.append(x,[4,5,6])\n",
    "print(\"second array\",y)\n",
    "print(\"*\"*40)\n",
    "\n"
   ]
  },
  {
   "cell_type": "code",
   "execution_count": 106,
   "id": "2ba2edae",
   "metadata": {
    "scrolled": true
   },
   "outputs": [
    {
     "name": "stdout",
     "output_type": "stream",
     "text": [
      "Second dimensinal array [[1 2 3]\n",
      " [1 2 3]\n",
      " [1 2 3]]\n",
      "****************************************\n",
      "After horixonal append with 1 dimension\n",
      "[1 2 3 1 2 3 1 2 3 4 5 6 7 1 2 3 4 4 5 6 7]\n",
      "****************************************\n"
     ]
    }
   ],
   "source": [
    "a=np.array([[1,2,3],[1,2,3],[1,2,3]])\n",
    "print(\"Second dimensinal array\",a)\n",
    "print(\"*\"*40)\n",
    "\n",
    "b=np.append(a,[[4,5,6,7],[1,2,3,4],[4,5,6,7]])\n",
    "print(\"After horixonal append with 1 dimension\")\n",
    "print(b)\n",
    "print(\"*\"*40)\n"
   ]
  },
  {
   "cell_type": "code",
   "execution_count": 111,
   "id": "5b53fd11",
   "metadata": {},
   "outputs": [
    {
     "name": "stdout",
     "output_type": "stream",
     "text": [
      "axis 1 positional:\n",
      "[[1 2 3 4 5 6 6]\n",
      " [1 2 3 1 2 3 4]\n",
      " [1 2 3 4 5 6 7]]\n",
      "########################################\n",
      "axis 0 positions\n",
      "[[1 2 3 4 5 6]\n",
      " [1 2 3 1 2 3]\n",
      " [1 2 3 4 5 6]]\n"
     ]
    }
   ],
   "source": [
    "a=np.array([[1,2,3],[1,2,3],[1,2,3]])\n",
    "c=np.append(a,[[4,5,6,6],[1,2,3,4],[4,5,6,7]],axis=1)\n",
    "print(\"axis 1 positional:\")\n",
    "print(c)\n",
    "\n",
    "print('#'*40)\n",
    "\n",
    "d=np.append(a,[[4,5,6],[1,2,3],[4,5,6]],axis=1)\n",
    "print(\"axis 0 positions\")\n",
    "print(d)"
   ]
  },
  {
   "cell_type": "code",
   "execution_count": 97,
   "id": "f1eec2f1",
   "metadata": {},
   "outputs": [
    {
     "name": "stdout",
     "output_type": "stream",
     "text": [
      "[1 2 3]\n",
      "After Insert [1 2 3 4]\n"
     ]
    }
   ],
   "source": [
    "#Insert\n",
    "\n",
    "a=np.array([1,2,3])\n",
    "print(a)\n",
    "b=np.insert(a,3,4)\n",
    "print(\"After Insert\",b)\n"
   ]
  },
  {
   "cell_type": "code",
   "execution_count": 102,
   "id": "32329080",
   "metadata": {
    "scrolled": true
   },
   "outputs": [
    {
     "name": "stdout",
     "output_type": "stream",
     "text": [
      "[[ 1  2  3]\n",
      " [11 12 13]\n",
      " [21 22 23]]\n",
      "[ 1  3 11 13 21 23]\n"
     ]
    }
   ],
   "source": [
    "#Delete \n",
    "\n",
    "a=np.array([[1,2,3],[11,12,13],[21,22,23]])\n",
    "print(a)\n",
    "c=np.delete(a,4)\n",
    "print(c)\n",
    "c=np.delete(a,[1,4,7])\n",
    "print(c)"
   ]
  },
  {
   "cell_type": "code",
   "execution_count": 129,
   "id": "108a1472",
   "metadata": {},
   "outputs": [
    {
     "name": "stdout",
     "output_type": "stream",
     "text": [
      "list cancat [2, 3, 4, 3, 5, 6]\n"
     ]
    }
   ],
   "source": [
    "List1=([2,3,4])\n",
    "List2=([3,5,6])\n",
    "a=List1+List2\n",
    "print(\"list cancat\",a)"
   ]
  },
  {
   "cell_type": "code",
   "execution_count": 128,
   "id": "5de2aaaf",
   "metadata": {},
   "outputs": [
    {
     "name": "stdout",
     "output_type": "stream",
     "text": [
      "[[1 1]\n",
      " [2 2]]\n",
      "[[3 3]\n",
      " [4 4]]\n",
      "**************************************************\n",
      "[[1 1]\n",
      " [2 2]\n",
      " [3 3]\n",
      " [4 4]]\n",
      "**************************************************\n",
      "[[3 3]\n",
      " [4 4]\n",
      " [1 1]\n",
      " [2 2]]\n",
      "**************************************************\n",
      "[[3 4]\n",
      " [3 4]]\n",
      "[2, 3, 4, 3, 4, 5]\n"
     ]
    }
   ],
   "source": [
    "a=np.array([[1,1],[2,2]])\n",
    "b=np.array([[3,3],[4,4]])\n",
    "print (a)\n",
    "print (b)\n",
    "print (\"*\"*50)\n",
    "\n",
    "print(np.concatenate((a,b),axis=0))\n",
    "print(\"*\"*50)\n",
    "\n",
    "print (np.concatenate ((b,a)))\n",
    "print(\"*\"*50)\n",
    "\n",
    "print(b.T)\n",
    "\n",
    "a=[2,3,4]\n",
    "b=[3,4,5]\n",
    "c=a+b\n",
    "print(c)"
   ]
  },
  {
   "cell_type": "code",
   "execution_count": 117,
   "id": "91ae771c",
   "metadata": {},
   "outputs": [
    {
     "name": "stdout",
     "output_type": "stream",
     "text": [
      "[2, 3, 4, 3, 5, 6]\n"
     ]
    }
   ],
   "source": [
    "list1=[2,3,4]\n",
    "list2=[3,5,6]\n",
    "a=list1+list2\n",
    "print(a)"
   ]
  },
  {
   "cell_type": "code",
   "execution_count": 118,
   "id": "dbdd4993",
   "metadata": {},
   "outputs": [
    {
     "name": "stdout",
     "output_type": "stream",
     "text": [
      "[2 4 7]\n"
     ]
    }
   ],
   "source": [
    "a=np.array([1,2,4])\n",
    "aa=np.array([1,2,3])\n",
    "print(a+aa)"
   ]
  },
  {
   "cell_type": "code",
   "execution_count": 119,
   "id": "01423969",
   "metadata": {},
   "outputs": [
    {
     "name": "stdout",
     "output_type": "stream",
     "text": [
      "[3 4 6]\n"
     ]
    }
   ],
   "source": [
    "#BROADCASTING \n",
    "\n",
    "#print(list1+2) #TypeError: can only concatenate list(not \"Int\") to list.\n",
    "\n",
    "print(a+2) #With Array\n"
   ]
  },
  {
   "cell_type": "code",
   "execution_count": null,
   "id": "3b4be798",
   "metadata": {},
   "outputs": [],
   "source": []
  }
 ],
 "metadata": {
  "kernelspec": {
   "display_name": "Python 3 (ipykernel)",
   "language": "python",
   "name": "python3"
  },
  "language_info": {
   "codemirror_mode": {
    "name": "ipython",
    "version": 3
   },
   "file_extension": ".py",
   "mimetype": "text/x-python",
   "name": "python",
   "nbconvert_exporter": "python",
   "pygments_lexer": "ipython3",
   "version": "3.11.4"
  }
 },
 "nbformat": 4,
 "nbformat_minor": 5
}
