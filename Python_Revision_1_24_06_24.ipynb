{
  "nbformat": 4,
  "nbformat_minor": 0,
  "metadata": {
    "colab": {
      "provenance": [],
      "authorship_tag": "ABX9TyMfcT7Hn1RTJPX3bI6vly/e",
      "include_colab_link": true
    },
    "kernelspec": {
      "name": "python3",
      "display_name": "Python 3"
    },
    "language_info": {
      "name": "python"
    }
  },
  "cells": [
    {
      "cell_type": "markdown",
      "metadata": {
        "id": "view-in-github",
        "colab_type": "text"
      },
      "source": [
        "<a href=\"https://colab.research.google.com/github/OmkarKule/EDA-MATERIALS/blob/master/Python_Revision_1_24_06_24.ipynb\" target=\"_parent\"><img src=\"https://colab.research.google.com/assets/colab-badge.svg\" alt=\"Open In Colab\"/></a>"
      ]
    },
    {
      "cell_type": "code",
      "execution_count": 108,
      "metadata": {
        "id": "8mLRi23NGrLS",
        "colab": {
          "base_uri": "https://localhost:8080/"
        },
        "outputId": "a1eecaf5-f336-48e3-923b-e7d5d9887d01"
      },
      "outputs": [
        {
          "output_type": "stream",
          "name": "stdout",
          "text": [
            "Computer\n",
            "Aptech\n"
          ]
        }
      ],
      "source": [
        "# Write a program to print Computer on one line & APTECH on next line\n",
        "print(\"Computer\\nAptech\")\n"
      ]
    },
    {
      "cell_type": "code",
      "source": [
        "#Q2 :- WAP to calculate & print basic,da,hr, total, Tax. Given Basics=1000.50. Calculate da as  50% of basics,hra as 20% of basic, total as Basics+da+hr & tax as 10% of total\n",
        "Base=1000.50\n",
        "print(Base)\n",
        "\n",
        "Da=(Base)*(100/200)\n",
        "print(Da)\n",
        "\n",
        "Hr=(Base)*(100/500)\n",
        "print(Hr)\n",
        "\n",
        "T=(Base+Da+Hr)\n",
        "print(T)\n",
        "\n",
        "T1=(Base+Da+Hr)*(100/1000)\n",
        "print(T1)"
      ],
      "metadata": {
        "colab": {
          "base_uri": "https://localhost:8080/"
        },
        "id": "YHR3iKL2r2J1",
        "outputId": "9bef623e-1e1e-4382-c838-e06d5bfd0ab4"
      },
      "execution_count": 83,
      "outputs": [
        {
          "output_type": "stream",
          "name": "stdout",
          "text": [
            "1000.5\n",
            "500.25\n",
            "200.10000000000002\n",
            "1700.85\n",
            "170.085\n"
          ]
        }
      ]
    },
    {
      "cell_type": "code",
      "source": [
        "#Q3 WAP Calculate & print Base 5 & Height 10 of traiangle. Calculate & Print the area\n",
        "B=5\n",
        "H=10\n",
        "\n",
        "Area=0.5*B*H\n",
        "print(Area)"
      ],
      "metadata": {
        "colab": {
          "base_uri": "https://localhost:8080/"
        },
        "id": "H20AYhn0vfr0",
        "outputId": "fa2d1eac-2f83-4e76-9038-9ba8d3a076d3"
      },
      "execution_count": 85,
      "outputs": [
        {
          "output_type": "stream",
          "name": "stdout",
          "text": [
            "25.0\n"
          ]
        }
      ]
    },
    {
      "cell_type": "code",
      "source": [
        "#Q4 WAP Calculate & print Base & Height of traiangle. Calculate & Print the area\n",
        "\n",
        "B=int(input(\"Enter a Number \"))\n",
        "H=int(input(\"Enter a Number \"))\n",
        "\n",
        "Area=0.5*B*H\n",
        "print(Area)"
      ],
      "metadata": {
        "colab": {
          "base_uri": "https://localhost:8080/"
        },
        "id": "f7OHnwohwSuj",
        "outputId": "e4137967-4529-49e9-8f3d-4c467e2015e8"
      },
      "execution_count": 87,
      "outputs": [
        {
          "output_type": "stream",
          "name": "stdout",
          "text": [
            "Enter a Number 5\n",
            "Enter a Number 10\n",
            "25.0\n"
          ]
        }
      ]
    },
    {
      "cell_type": "code",
      "source": [
        "#Q5\n",
        "a=float(input(\"Enter a Number \"))\n",
        "b=float(input(\"Enter a Number \"))\n",
        "c=float(input(\"Enter a Number \"))\n",
        "\n",
        "S=float(a+b+c)/2\n",
        "\n",
        "Area=S*(S-a)*(S-b)*(S-c)\n",
        "print(float(Area))\n",
        "Area1= (a+b+c)/2\n",
        "print(Area1)\n"
      ],
      "metadata": {
        "colab": {
          "base_uri": "https://localhost:8080/"
        },
        "id": "nRnOkhgVkhQV",
        "outputId": "72374383-ff80-4231-e870-bdba71cd40ee"
      },
      "execution_count": 88,
      "outputs": [
        {
          "output_type": "stream",
          "name": "stdout",
          "text": [
            "Enter a Number 5\n",
            "Enter a Number 6\n",
            "Enter a Number 7\n",
            "216.0\n",
            "9.0\n"
          ]
        }
      ]
    },
    {
      "cell_type": "code",
      "source": [
        "#Q6 WAP to convert Temperature in Fahrenheit into cetigrate using the formula c=5/9(f-32) & print\n",
        "f=float(input(\"Enter a Number \"))\n",
        "\n",
        "c=5/9*(f-32)\n",
        "print(c)\n"
      ],
      "metadata": {
        "colab": {
          "base_uri": "https://localhost:8080/"
        },
        "id": "nRfmI-fhxV1L",
        "outputId": "e1b5ceb0-ffb3-40ef-a29c-e948dc4d77cc"
      },
      "execution_count": 93,
      "outputs": [
        {
          "output_type": "stream",
          "name": "stdout",
          "text": [
            "Enter a Number 35\n",
            "1.6666666666666667\n"
          ]
        }
      ]
    },
    {
      "cell_type": "code",
      "source": [
        "#Q7 WAP to accept in Hours, Minutes & Seconds & then calculate & print time in seconds\n",
        "\n",
        "H=(int(input(\"Enter a Hours \")))\n",
        "M=(int(input(\"Enter a Minutes \")))\n",
        "S=(int(input(\"Enter a Seconds\")))\n",
        "\n",
        "T=(H*3600)+(M*60)+S\n",
        "print(T)\n",
        "\n",
        "#Hrs = 60sec per min * 60 min = 3600\n",
        "#Min = 60sec = 60\n",
        "#Sec = 1sec = 15\n",
        "# Total = 12615\n",
        "\n",
        "\n"
      ],
      "metadata": {
        "colab": {
          "base_uri": "https://localhost:8080/"
        },
        "id": "8AVDXiQLx1ZM",
        "outputId": "be2c3e86-93e6-4780-e637-9b803488b288"
      },
      "execution_count": 94,
      "outputs": [
        {
          "output_type": "stream",
          "name": "stdout",
          "text": [
            "Enter a Number 3\n",
            "Enter a Number 30\n",
            "Enter a Number 15\n",
            "12615\n"
          ]
        }
      ]
    },
    {
      "cell_type": "code",
      "source": [
        "#Q8 WAP to accept 2 No. Inerchage the two No. Then print.\n",
        "a=int(input(\"Enter a Number \"))\n",
        "b=int(input(\"Enter a Number \"))\n",
        "\n",
        "a1=(b)\n",
        "b1=(a)\n",
        "\n",
        "print (a1)\n",
        "print (b1)\n"
      ],
      "metadata": {
        "colab": {
          "base_uri": "https://localhost:8080/"
        },
        "id": "S6pgSH9-oCwS",
        "outputId": "5c4050de-f5b9-4953-d244-c34eba2070bd"
      },
      "execution_count": 29,
      "outputs": [
        {
          "output_type": "stream",
          "name": "stdout",
          "text": [
            "Enter a Number 9\n",
            "Enter a Number 7\n",
            "7\n",
            "9\n"
          ]
        }
      ]
    },
    {
      "cell_type": "code",
      "source": [
        "#Q9 WAP to input height into feet & Inches & then  print corresponding height in centemeters\n",
        "\n",
        "f=(float(input(\"Enter a Height in feet \")))\n",
        "I=(float(input(\"Enter a Height in Inches \")))\n",
        "\n",
        "feet=f*12*2.54\n",
        "inch=I*2.54\n",
        "\n",
        "C=feet+inch\n",
        "\n",
        "print(C)"
      ],
      "metadata": {
        "colab": {
          "base_uri": "https://localhost:8080/"
        },
        "id": "MnqoyaiuyGOj",
        "outputId": "fecbb374-f9df-44ce-bf49-035be51a6ffa"
      },
      "execution_count": 106,
      "outputs": [
        {
          "output_type": "stream",
          "name": "stdout",
          "text": [
            "Enter a Height in feet 5\n",
            "Enter a Height in Inches 1\n",
            "154.94\n"
          ]
        }
      ]
    },
    {
      "cell_type": "code",
      "source": [],
      "metadata": {
        "id": "tLJd4neU2Lfr"
      },
      "execution_count": null,
      "outputs": []
    },
    {
      "cell_type": "code",
      "source": [],
      "metadata": {
        "id": "akpcz9yB0gR7"
      },
      "execution_count": null,
      "outputs": []
    }
  ]
}